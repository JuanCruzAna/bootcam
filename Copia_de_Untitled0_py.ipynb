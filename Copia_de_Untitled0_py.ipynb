{
  "nbformat": 4,
  "nbformat_minor": 0,
  "metadata": {
    "colab": {
      "provenance": [],
      "authorship_tag": "ABX9TyNzirFXHFi3r3L/7MgjNpST",
      "include_colab_link": true
    },
    "kernelspec": {
      "name": "python3",
      "display_name": "Python 3"
    },
    "language_info": {
      "name": "python"
    }
  },
  "cells": [
    {
      "cell_type": "markdown",
      "metadata": {
        "id": "view-in-github",
        "colab_type": "text"
      },
      "source": [
        "<a href=\"https://colab.research.google.com/github/JuanCruzAna/bootcam/blob/main/Copia_de_Untitled0_py.ipynb\" target=\"_parent\"><img src=\"https://colab.research.google.com/assets/colab-badge.svg\" alt=\"Open In Colab\"/></a>"
      ]
    },
    {
      "cell_type": "code",
      "execution_count": null,
      "metadata": {
        "id": "Gp2Iw1D_nOP-"
      },
      "outputs": [],
      "source": [
        "import tensorflow as tf\n",
        "import numpy as np\n",
        "import keras"
      ]
    },
    {
      "cell_type": "code",
      "source": [
        "celsius = np.array([-40,-10,0,8,15,22,38], dtype=float)\n",
        "fahrenheit = np.array([-40,14,32,46,59,72,100], dtype=float)"
      ],
      "metadata": {
        "id": "Eb2vleXInWJk"
      },
      "execution_count": null,
      "outputs": []
    },
    {
      "cell_type": "code",
      "source": [
        "# capa = tf.keras.layers.Dense(units=1, input_shape=[1])\n",
        "# modelo = tf.keras.Sequential([capa])\n",
        "\n",
        "oculta1 = tf.keras.layers.Dense(units=3,input_shape=[1])\n",
        "oculta2 = tf.keras.layers.Dense(units=3)\n",
        "salida = tf.keras.layers.Dense(units=1)\n",
        "modelo = tf.keras.Sequential([oculta1,oculta2,salida])"
      ],
      "metadata": {
        "id": "lI3hIfiCoU5c"
      },
      "execution_count": null,
      "outputs": []
    },
    {
      "cell_type": "code",
      "source": [
        "modelo.compile(\n",
        "    optimizer = tf.keras.optimizers.Adam(0.1),\n",
        "    loss = 'mean_squared_error'\n",
        ")"
      ],
      "metadata": {
        "id": "vhgJRj62oxWi"
      },
      "execution_count": null,
      "outputs": []
    },
    {
      "cell_type": "code",
      "source": [
        "print('Entrenando N A Z I...')\n",
        "historial = modelo.fit(celsius,fahrenheit,epochs=1000,verbose=False)\n",
        "print('MODELO ENTRENADO')\n"
      ],
      "metadata": {
        "colab": {
          "base_uri": "https://localhost:8080/"
        },
        "id": "BwQDv2hHpG9U",
        "outputId": "a9acfecb-45c5-4a87-be6f-14a5b1cb2d9e"
      },
      "execution_count": null,
      "outputs": [
        {
          "output_type": "stream",
          "name": "stdout",
          "text": [
            "Entrenando N A Z I...\n",
            "MODELO ENTRENADO\n"
          ]
        }
      ]
    },
    {
      "cell_type": "code",
      "source": [
        "import matplotlib.pyplot as plt\n",
        "plt.xlabel(\"# Epoca\")\n",
        "plt.ylabel(\"# Magnitud de pérdida\")\n",
        "plt.plot(historial.history[\"loss\"])\n",
        "\n"
      ],
      "metadata": {
        "id": "HS0Op-y8rEwu",
        "outputId": "af3305e9-cd86-46ff-d48c-ef754df19624",
        "colab": {
          "base_uri": "https://localhost:8080/",
          "height": 466
        }
      },
      "execution_count": null,
      "outputs": [
        {
          "output_type": "execute_result",
          "data": {
            "text/plain": [
              "[<matplotlib.lines.Line2D at 0x7cee4867ff70>]"
            ]
          },
          "metadata": {},
          "execution_count": 36
        },
        {
          "output_type": "display_data",
          "data": {
            "text/plain": [
              "<Figure size 640x480 with 1 Axes>"
            ],
            "image/png": "[encoded data removed]"
          },
          "metadata": {}
        }
      ]
    },
    {
      "cell_type": "code",
      "source": [
        "print(\"Hagamos una predicción!\")\n",
        "resultado = modelo.predict([100.0])\n",
        "print(f'El resultado es {str(resultado)} fahrenheit')"
      ],
      "metadata": {
        "id": "gtaUblLkrdbP",
        "outputId": "46d411e0-9620-4d41-e7c2-1a775e1670c0",
        "colab": {
          "base_uri": "https://localhost:8080/"
        }
      },
      "execution_count": null,
      "outputs": [
        {
          "output_type": "stream",
          "name": "stdout",
          "text": [
            "Hagamos una predicción!\n",
            "1/1 [==============================] - 0s 68ms/step\n",
            "El resultado es [[211.91595]] fahrenheit\n"
          ]
        }
      ]
    },
    {
      "cell_type": "code",
      "source": [
        "print('Variables internas del lmodelo')\n",
        "print(oculta1.get_weights())\n",
        "print(oculta2.get_weights())\n",
        "print(salida.get_weights())"
      ],
      "metadata": {
        "id": "XEnCNYHWsT8r",
        "outputId": "059ac45e-4558-4040-c831-7e3ced834613",
        "colab": {
          "base_uri": "https://localhost:8080/"
        }
      },
      "execution_count": null,
      "outputs": [
        {
          "output_type": "stream",
          "name": "stdout",
          "text": [
            "Variables internas del lmodelo\n",
            "[array([[-0.03912259, -0.69769883, -0.01035467]], dtype=float32), array([-3.586141 , -3.879415 ,  3.9050646], dtype=float32)]\n",
            "[array([[ 0.5998028 ,  0.1971022 ,  0.27688226],\n",
            "       [ 0.64969033,  0.28773233, -1.1164938 ],\n",
            "       [ 0.3588204 , -0.3055963 ,  0.7340712 ]], dtype=float32), array([-3.8770313, -4.0282626,  3.9718368], dtype=float32)]\n",
            "[array([[-1.0035033 ],\n",
            "       [-0.78692496],\n",
            "       [ 1.519753  ]], dtype=float32), array([3.7793787], dtype=float32)]\n"
          ]
        }
      ]
    }
  ]
}